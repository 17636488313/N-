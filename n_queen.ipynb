{
 "cells": [
  {
   "cell_type": "code",
   "execution_count": null,
   "metadata": {},
   "outputs": [],
   "source": [
    "import copy"
   ]
  },
  {
   "cell_type": "code",
   "execution_count": null,
   "metadata": {},
   "outputs": [],
   "source": [
    "class N_Queen_Problem:\n",
    "    def __init__(self,x) -> None:\n",
    "        self.N = x\n",
    "        self.S = []\n",
    "        self.results = []\n",
    "        self.chessboard = self.genrate_board()\n",
    "        \n",
    "    def genrate_board(self):\n",
    "        return [ [0 for i in range(self.N)] for j in range(self.N)]\n",
    "    \n",
    "    def N_Queen(self):\n",
    "        self.n_queen(0)\n",
    "        \n",
    "    def n_queen(self,j):\n",
    "        if j >= self.N:\n",
    "            self.results.append(self.S.copy())\n",
    "            return\n",
    "    \n",
    "        for i in range(self.N):\n",
    "            if self.chessboard[i][j] == 0:\n",
    "                old_chessboard = copy.deepcopy(self.chessboard)\n",
    "                self.S.append(i)\n",
    "                self.mark(i,j)\n",
    "                self.n_queen(j+1)\n",
    "                self.S.pop()\n",
    "                self.chessboard = copy.deepcopy(old_chessboard)\n",
    "        \n",
    "    def mark(self,i,j):  \n",
    "        for k in range(self.N):\n",
    "            self.chessboard[i][k] = 1\n",
    "            self.chessboard[k][j] = 1\n",
    "        for l in range(-self.N,self.N):\n",
    "            if 0 <= i + l and i + l < self.N and 0 <= j - l and j - l < self.N :\n",
    "                self.chessboard[i+l][j-l] = 1\n",
    "            if 0 <= i + l and i + l < self.N and 0 <= j + l and j + l < self.N:\n",
    "                self.chessboard[i+l][j+l] = 1  "
   ]
  },
  {
   "cell_type": "code",
   "execution_count": null,
   "metadata": {},
   "outputs": [],
   "source": [
    "n = 10\n",
    "prob = N_Queen_Problem(n)\n",
    "prob.N_Queen()\n",
    "len(prob.results)"
   ]
  }
 ],
 "metadata": {
  "kernelspec": {
   "display_name": "Python 3.8.10 64-bit",
   "language": "python",
   "name": "python3"
  },
  "language_info": {
   "name": "python",
   "version": "3.8.10"
  },
  "orig_nbformat": 4,
  "vscode": {
   "interpreter": {
    "hash": "ffbfc792e496a15b6b750fac43e7a9afdc7c26545a7abda9dc172ad3cb978227"
   }
  }
 },
 "nbformat": 4,
 "nbformat_minor": 2
}
